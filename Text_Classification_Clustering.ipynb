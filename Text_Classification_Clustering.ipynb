{
  "nbformat": 4,
  "nbformat_minor": 0,
  "metadata": {
    "accelerator": "GPU",
    "colab": {
      "name": "Untitled0.ipynb",
      "provenance": [],
      "collapsed_sections": []
    },
    "kernelspec": {
      "display_name": "Python 3",
      "name": "python3"
    },
    "language_info": {
      "name": "python"
    }
  },
  "cells": [
    {
      "cell_type": "markdown",
      "metadata": {
        "id": "XaaomQ0G5BkL"
      },
      "source": [
        "# **Text Classification and Clustering With Machine Learning and NLP(Natural Language Processing):**\n",
        "Text classification is the process of classifying unstructured text data into various category such as technology, sport,medical,math etc.\n",
        "\n",
        "\n",
        "Most of the information are unstructured because of the messy nature of text, this is where text classification with machine learning comes in.\n",
        "\n",
        "\n",
        "Text classification with machine learning, natural language processing (NLP), and other AI-guided techniques help to classify text in a faster, more cost-effective, and more accurate manner.\n",
        "\n",
        "**Machine Learning Text Classification Algorithms::**\n",
        "\n",
        "* Most popular text classification algorithms include  K-Means algorithm,Naive Bayes family of algorithms, Support vector machines (SVM), and Deep learning.\n",
        "\n",
        "* In this tutorial i am going to use **K-Means algorithm** to classify and clustering the given text data.\n",
        "\n",
        "**Reason of machine learning text classification:**\n",
        "\n",
        "* Manually analyzing and organizing is slow and much less accurate. Machine learning can automatically analyze millions of data in a few minutes.\n",
        "\n",
        "* Machine learning text classification based on real-time analysis.\n",
        "\n",
        "\n",
        "\n",
        "**Text Classification Examples:**\n",
        "\n",
        "* **Sentiment Analysis:**Sentiment analysis allows you to automatically analyze all forms of text for the feeling and emotion of the writer.\n",
        "\n",
        "* **Topic Labeling:**\n",
        "Another common example of text classification is topic labeling, that is, understanding what a given text is talking about.\n",
        "\n",
        "* **Language Detection:**\n",
        "Language detection is another great example of text classification, that is, the process of classifying incoming text according to its language.\n",
        "\n",
        "* **Intent Detection:**\n",
        "Intent detection or intent classification is another great use case for text classification that analyzes text to understand the reason behind feedback. Maybe it’s a complaint, or maybe a customer is expressing intent to purchase a product.\n",
        "\n",
        "\n",
        "**Text Classification Applications & Use Cases:**\n",
        "\n",
        "\n",
        "Some of the top applications and use cases of text classification include:\n",
        "\n",
        "* Automate business processes\n",
        "\n",
        "* Email spam filtering\n",
        "\n",
        "* Detecting urgent issues\n",
        "\n",
        "* Automating customer support processes\n",
        "\n",
        "* Listening to the Voice of customer (VoC)\n",
        "\n",
        "* Phising and nonphising classification\n",
        "\n",
        "\n",
        "\n",
        "#**Text classification using K-means Clustering Algorithm:**\n",
        "\n",
        "Clustering is an unsupervised learning technique which means that it has no labeled data and grouping a set of object having similar feature to each other.One of the most popular an simple clustering algorithms is k-means clustering algorithm.\n",
        "\n",
        "\n",
        "K-Means is one of the simplest unsupervised clustering algorithm which is used to cluster our data into K number of clusters. The algorithm iteratively assigns the data points to one of the K clusters based on how near the point is to the cluster centroid.\n",
        "\n",
        " The result of K-Means algorithm is:\n",
        "\n",
        "(a)K number of cluster centroids\n",
        "\n",
        "(b)Data points classified into the clusters\n",
        "\n",
        "\n",
        "\n",
        "**Mathematics behind K-Mean Clustering algorithm:**\n",
        "\n",
        "\n",
        "Assuming we have input data points $x_{0}$, $x_{1}$, $x_{2}$, $x_{3}$ ,…,$x_{n}$ and $y_{0}$, $y_{1}$, $xy_{2}$, $y_{3}$,..….$y_{n}$,and value of K (the number of clusters needed).\n",
        "\n",
        "We follow the below procedure:\n",
        "\n",
        "(1)Pick K points as the initial centroids from the dataset,either randomly or the first K.\n",
        "\n",
        "(2)Find the Euclidean distance(ED) of each point in the dataset with the identified K points (cluster centroids).\n",
        "\n",
        "(3)Calculate Euclidean(ED) distance for k1 and k2 and the lower value of k1 or k2 belong same class(eg.ED of point k1=20.80 and ED of point k2=4.48 ,since value of k2 is lower distance and closest so this class belongs to k2 clusters).\n",
        "\n",
        "(4)Assign each data point to the closest centroid using the distance found in the previous step.\n",
        "\n",
        "(5)Find the new centroid by taking the average of the points in each cluster group.\n",
        "\n",
        "(6)Repeat 2 to 4 for a fixed number of iteration or till the centroids don’t change.\n",
        "\n",
        "**Euclidean Distance between two points in space:**\n",
        "\n",
        " Euclidean Distance(ED)=$\\sqrt{(x_0-y_c)^2+(y_0-y_c)^2}$\n",
        "\n",
        "\n",
        "where,\n",
        "\n",
        "$x_{0}$ and $y_{0}$ are giver data of class.\n",
        "\n",
        "$x_{c}$ and $y_{c}$ are centroyed of x point and y point respectively.\n",
        "\n",
        "\n",
        "\n",
        "\n",
        "\n",
        "\n",
        "\n",
        "\n",
        "\n",
        "**The data set used is obtained from kaggle data sets and the link is here:**\n",
        "\n",
        "www.kaggle.com\n",
        "\n",
        "\n",
        "\n",
        "\n",
        "\n",
        "\n",
        "\n"
      ]
    },
    {
      "cell_type": "code",
      "metadata": {
        "id": "K3q2cO0uF9Zy",
        "colab": {
          "base_uri": "https://localhost:8080/"
        },
        "outputId": "e291d43b-2c37-4637-a60d-1f5fbbea721f"
      },
      "source": [
        "from google.colab import drive                    #mount your Google Drive in your virtual machine.\n",
        "drive.mount('/gdrive')"
      ],
      "execution_count": 36,
      "outputs": [
        {
          "output_type": "stream",
          "name": "stdout",
          "text": [
            "Drive already mounted at /gdrive; to attempt to forcibly remount, call drive.mount(\"/gdrive\", force_remount=True).\n"
          ]
        }
      ]
    },
    {
      "cell_type": "markdown",
      "metadata": {
        "id": "-zIQ1nStE815"
      },
      "source": [
        "#**Import Essential libraries:**"
      ]
    },
    {
      "cell_type": "code",
      "metadata": {
        "id": "p66_FVUPFhfX"
      },
      "source": [
        "import numpy as np\n",
        "import matplotlib.pyplot as plt\n",
        "import pandas as pd \n",
        "import sklearn"
      ],
      "execution_count": 37,
      "outputs": []
    },
    {
      "cell_type": "code",
      "metadata": {
        "id": "NXgiSiQZGimg"
      },
      "source": [
        "dataset=pd.read_csv('/gdrive/My Drive/Text Classification and Clustering/abcnews-date-text.csv',quoting=3) \n",
        "                                             #Read data file with path location"
      ],
      "execution_count": 39,
      "outputs": []
    },
    {
      "cell_type": "code",
      "metadata": {
        "colab": {
          "base_uri": "https://localhost:8080/",
          "height": 206
        },
        "id": "qstAX1GXGWAC",
        "outputId": "6dc2f2e4-b328-4d36-a763-c5c46f21b565"
      },
      "source": [
        "dataset.head()\n",
        "\n"
      ],
      "execution_count": 41,
      "outputs": [
        {
          "output_type": "execute_result",
          "data": {
            "text/html": [
              "<div>\n",
              "<style scoped>\n",
              "    .dataframe tbody tr th:only-of-type {\n",
              "        vertical-align: middle;\n",
              "    }\n",
              "\n",
              "    .dataframe tbody tr th {\n",
              "        vertical-align: top;\n",
              "    }\n",
              "\n",
              "    .dataframe thead th {\n",
              "        text-align: right;\n",
              "    }\n",
              "</style>\n",
              "<table border=\"1\" class=\"dataframe\">\n",
              "  <thead>\n",
              "    <tr style=\"text-align: right;\">\n",
              "      <th></th>\n",
              "      <th>publish_date</th>\n",
              "      <th>headline_text</th>\n",
              "    </tr>\n",
              "  </thead>\n",
              "  <tbody>\n",
              "    <tr>\n",
              "      <th>0</th>\n",
              "      <td>20030219</td>\n",
              "      <td>aba decides against community broadcasting lic...</td>\n",
              "    </tr>\n",
              "    <tr>\n",
              "      <th>1</th>\n",
              "      <td>20030219</td>\n",
              "      <td>act fire witnesses must be aware of defamation</td>\n",
              "    </tr>\n",
              "    <tr>\n",
              "      <th>2</th>\n",
              "      <td>20030219</td>\n",
              "      <td>a g calls for infrastructure protection summit</td>\n",
              "    </tr>\n",
              "    <tr>\n",
              "      <th>3</th>\n",
              "      <td>20030219</td>\n",
              "      <td>air nz staff in aust strike for pay rise</td>\n",
              "    </tr>\n",
              "    <tr>\n",
              "      <th>4</th>\n",
              "      <td>20030219</td>\n",
              "      <td>air nz strike to affect australian travellers</td>\n",
              "    </tr>\n",
              "  </tbody>\n",
              "</table>\n",
              "</div>"
            ],
            "text/plain": [
              "   publish_date                                      headline_text\n",
              "0      20030219  aba decides against community broadcasting lic...\n",
              "1      20030219     act fire witnesses must be aware of defamation\n",
              "2      20030219     a g calls for infrastructure protection summit\n",
              "3      20030219           air nz staff in aust strike for pay rise\n",
              "4      20030219      air nz strike to affect australian travellers"
            ]
          },
          "metadata": {},
          "execution_count": 41
        }
      ]
    },
    {
      "cell_type": "code",
      "metadata": {
        "colab": {
          "base_uri": "https://localhost:8080/"
        },
        "id": "oIblN9RMvbYe",
        "outputId": "f8b334b0-e414-4497-da89-3dfcaa43e259"
      },
      "source": [
        "dataset.info()"
      ],
      "execution_count": 42,
      "outputs": [
        {
          "output_type": "stream",
          "name": "stdout",
          "text": [
            "<class 'pandas.core.frame.DataFrame'>\n",
            "RangeIndex: 1226258 entries, 0 to 1226257\n",
            "Data columns (total 2 columns):\n",
            " #   Column         Non-Null Count    Dtype \n",
            "---  ------         --------------    ----- \n",
            " 0   publish_date   1226258 non-null  int64 \n",
            " 1   headline_text  1226258 non-null  object\n",
            "dtypes: int64(1), object(1)\n",
            "memory usage: 18.7+ MB\n"
          ]
        }
      ]
    },
    {
      "cell_type": "markdown",
      "metadata": {
        "id": "3w4BkY5SMgDn"
      },
      "source": [
        "\n",
        "\n",
        "#**Data Cleaning:**\n",
        "\n",
        "* In this stage we have to remove all the insignificant words in the observation such as **stop words**(eg. etc).In this case there is a library provided by **nltk (natural language tool kit)**.\n",
        "\n",
        "* **NLTK** is a powerful Python package that provides a set of diverse natural languages algorithms. It is free, opensource, easy to use, large community, and well documented. NLTK consists of the most common algorithms such as tokenizing, part-of-speech tagging, stemming, sentiment analysis, topic segmentation, and named entity recognition. \n",
        "\n",
        "* **NLTK** helps the computer to analysis, preprocess, and understand the written text.\n",
        "\n",
        "\n",
        "\n",
        "* **A Regular Expression (RE)** in a programming language is a special text string used for describing a search pattern. It is extremely useful for extracting information from text such as code, files, log, spreadsheets or even documents.\n",
        "\n",
        "* **Stopwords** provides multiple sources of stopwords, for use in text analysis and natural language processing.\n",
        "\n",
        "\n",
        "\n"
      ]
    },
    {
      "cell_type": "code",
      "metadata": {
        "colab": {
          "base_uri": "https://localhost:8080/"
        },
        "id": "9sx105WVi7d4",
        "outputId": "0cb7affb-5fa3-45c6-c4b7-642401ec04ee"
      },
      "source": [
        "import re\n",
        "import nltk\n",
        "nltk.download('stopwords')"
      ],
      "execution_count": 43,
      "outputs": [
        {
          "output_type": "stream",
          "name": "stdout",
          "text": [
            "[nltk_data] Downloading package stopwords to /root/nltk_data...\n",
            "[nltk_data]   Package stopwords is already up-to-date!\n"
          ]
        },
        {
          "output_type": "execute_result",
          "data": {
            "text/plain": [
              "True"
            ]
          },
          "metadata": {},
          "execution_count": 43
        }
      ]
    },
    {
      "cell_type": "markdown",
      "metadata": {
        "id": "8diT2HOkjgs1"
      },
      "source": [
        "\n",
        "\n",
        "###**Stemming:**\n",
        "\n",
        "* Stemming is also good practice as it involves reducing a word to its root form. For example **Flying** is a word and its **suffix** is **ing**, if we remove **ing** from **Flying** then we will get **base word or root** word which is **“Fly”.**\n",
        "\n",
        "* **Tokenization** is the process by which a large quantity of text is divided into smaller parts called tokens. These tokens are very useful for finding patterns and are considered as a base step for stemming.\n",
        "\n",
        "* **Tokenizers** divide strings into lists of substrings.\n",
        "\n",
        "\n",
        "\n",
        "\n"
      ]
    },
    {
      "cell_type": "code",
      "metadata": {
        "id": "NnSts2_ej0I1"
      },
      "source": [
        "from nltk.stem.porter import PorterStemmer           #The program reduce a word to its root form.\n",
        "from nltk.corpus import stopwords                    #The  program removes stop words from a piece of text.\n",
        "from nltk.tokenize import word_tokenize              #Tokenizers divide strings into lists of substrings.\n",
        "\n"
      ],
      "execution_count": 44,
      "outputs": []
    },
    {
      "cell_type": "code",
      "metadata": {
        "id": "gRAnynfErjlk"
      },
      "source": [
        "ps=PorterStemmer()                                  #Creat a variable and store PorterStemmer into it.\n"
      ],
      "execution_count": 46,
      "outputs": []
    },
    {
      "cell_type": "code",
      "metadata": {
        "id": "fRNtlglNrtm_",
        "colab": {
          "base_uri": "https://localhost:8080/"
        },
        "outputId": "3666d1ab-bc8e-4c73-d6d1-50557b07832e"
      },
      "source": [
        "#Description of this code is written below in details.\n",
        "stemmed_dataset=[]                               \n",
        "for i in range(0,1226257):\n",
        "    stemmed_array = dataset[\"headline_text\"][i].split() \n",
        "    stemmed = [ps.stem(word) for word in stemmed_array if not word in set(stopwords.words(\"english\"))]\n",
        "    stemmed = \" \".join(stemmed)\n",
        "    stemmed_dataset.append(stemmed)\n",
        "    \n",
        "    \n",
        "print(stemmed_dataset[0:5])"
      ],
      "execution_count": 47,
      "outputs": [
        {
          "output_type": "stream",
          "name": "stdout",
          "text": [
            "['aba decid commun broadcast licenc', 'act fire wit must awar defam', 'g call infrastructur protect summit', 'air nz staff aust strike pay rise', 'air nz strike affect australian travel']\n"
          ]
        }
      ]
    },
    {
      "cell_type": "markdown",
      "metadata": {
        "id": "_jb33RZe2kbC"
      },
      "source": [
        "\n",
        "* Above it involves a code which specifies the range which is 0 to 1226257 records. \n",
        "\n",
        "* I then initialized the variable stemmed_array to be equal to a column ‘headline_text’ which is to be clustered. \n",
        "\n",
        "* The split function ensures that the sentence is broken down into a list of words.\n",
        "*  The words are then stemmed by calling the object ‘ps’ from the function PorterStemmer and the word stemmed must not be in the stop word list.\n",
        "*  Then the list of words is then joined back together using the join() function. \n",
        "* The sentence is now appended to the blank data set list that was initialized before the stemming process.\n",
        "\n"
      ]
    },
    {
      "cell_type": "markdown",
      "metadata": {
        "id": "JiUopQxPGfHS"
      },
      "source": [
        "#**Create a Vector:**\n",
        "\n",
        "\n",
        "\n",
        "* The next step is to **create a vector** of all the words.This is now **tokenization** which is the process of taking each of the words in the observations and making a column for each.\n",
        "\n",
        "* **CountVectorizer** is a great tool provided by the **scikit-learn library in Python**. It is used to transform a given text into a vector on the basis of the **frequency (count)** of each word that occurs in the entire text. This is helpful when we have multiple such texts, and we wish to convert each word in each text into vectors (for using in further text analysis).\n",
        "\n",
        "* **CountVectorizer** creates a matrix in which each unique word is represented by a column of the matrix, and each text sample from the document is a row in the matrix. The value of each cell is nothing but the count of the word in that particular text sample. \n",
        "\n",
        "\n",
        "* **Note:**\n",
        "\n",
        " Since we have a **text string(headline_text)** data, so transform a given text into a vector for **ploatting a scatter and Clustering**.\n",
        "\n",
        " **If data  are in the form of numerical values then this step not required, we have to apply directly on values.**\n",
        "\n",
        "\n",
        "\n"
      ]
    },
    {
      "cell_type": "code",
      "metadata": {
        "id": "i43ls0pnG0Zc"
      },
      "source": [
        "from sklearn.feature_extraction.text import  CountVectorizer   #transform a given text into a vector \n"
      ],
      "execution_count": 48,
      "outputs": []
    },
    {
      "cell_type": "code",
      "metadata": {
        "id": "NQxwrXY7HLsB"
      },
      "source": [
        "cv=CountVectorizer()\n",
        "X=cv.fit_transform(stemmed_dataset)\n",
        "\n",
        "\n",
        "\n"
      ],
      "execution_count": 49,
      "outputs": []
    },
    {
      "cell_type": "markdown",
      "metadata": {
        "id": "YJPQ9ryIpg_v"
      },
      "source": [
        "\n",
        "\n",
        "\n",
        "#**K-means algorithm applied:**\n",
        "\n",
        "* Finally we can have the k-means algorithm applied to the vectorized data set. This is simply done as shown below:\n",
        "\n",
        "* In the **Elbow method**, we are actually varying the number of clusters ( K ) from 1 – 10. For each value of K, we are calculating **WCSS ( Within-Cluster Sum of Square )**. WCSS is the sum of squared distance between each point and the centroid in a cluster. When we plot the WCSS with the K value, the plot looks like an Elbow. As the number of clusters increases, the WCSS value will start to decrease. WCSS value is largest when K = 1. When we analyze the graph we can see that the graph will rapidly change at a point and thus creating an elbow shape. From this point, the graph starts to move almost parallel to the X-axis. The K value corresponding to this point is the optimal K value or an optimal number of clusters.\n",
        "\n",
        "\n",
        "* The number of clusters that we choose for a given dataset cannot be random. Each cluster is formed by calculating and comparing the distances of data points within a cluster to its centroid. An ideal way to figure out the right number of clusters would be to calculate the Within-Cluster-Sum-of-Squares (WCSS). WCSS is the sum of squares of the distances of each data point in all clusters to their respective centroids.\n",
        "\n",
        "* WCSS is the sum of squares of the distances of each data point in all clusters to their respective centroids.\n",
        "\n",
        "* **“init”** argument is the method for initializing the centroid. We calculated the WCSS value for each K value.\n",
        "\n",
        "* **n_init default=10**,\n",
        "Number of time the k-means algorithm will be run with different centroid seeds.\n",
        "\n",
        "* **max_iter, default=300**,\n",
        "Maximum number of iterations of the k-means algorithm for a single run.\n",
        "\n",
        "\n",
        "\n",
        "\n",
        "\n"
      ]
    },
    {
      "cell_type": "code",
      "metadata": {
        "id": "QKQm5_WnslZ-"
      },
      "source": [
        "# Using the elbow method to find the optimal number of clusters\n",
        "from sklearn.cluster import KMeans\n",
        "wcss=[]\n",
        "for i in range(1, 11):\n",
        "   kmeans = KMeans(n_clusters= i, init=\"k-means++\", max_iter=300,n_init=10,random_state=0,verbose=True) #Parameters\n",
        "   y_kmeans = kmeans.fit_predict(X)\n",
        "   #appending the WCSS to the list (kmeans.inertia_ returns the WCSS value for an initialized cluster)\n",
        "   wcss.append(kmeans.inertia_) \n",
        "\n"
      ],
      "execution_count": null,
      "outputs": []
    },
    {
      "cell_type": "code",
      "metadata": {
        "id": "HN6_TqfwL4hO"
      },
      "source": [
        "#now visualization of the plot\n",
        "import matplotlib.pyplot as plt"
      ],
      "execution_count": 51,
      "outputs": []
    },
    {
      "cell_type": "code",
      "metadata": {
        "colab": {
          "base_uri": "https://localhost:8080/",
          "height": 295
        },
        "id": "Nb3z1DZpyvzV",
        "outputId": "94476103-d6d8-4cbe-920d-c111520b5e09"
      },
      "source": [
        "#Plotting The Elbow graph\n",
        "plt.plot(range(1, 11), wcss)\n",
        "plt.title('The Elbow Point Graph')\n",
        "plt.xlabel('Number of clusters')\n",
        "plt.ylabel('WCSS')\n",
        "plt.show()"
      ],
      "execution_count": 52,
      "outputs": [
        {
          "output_type": "display_data",
          "data": {
            "image/png": "[encoded data removed]",
            "text/plain": [
              "<Figure size 432x288 with 1 Axes>"
            ]
          },
          "metadata": {
            "needs_background": "light"
          }
        }
      ]
    },
    {
      "cell_type": "markdown",
      "metadata": {
        "id": "VBtLLRSUs7Ji"
      },
      "source": [
        "#**Fitting K-Means to the dataset:**\n",
        "\n",
        "* From the **Elbow point graph** we analyze the graph we can see that the graph will rapidly change at a point and thus creating an **elbow shape**. From this point, the graph starts to **move almost parallel to the X-axis**. The K value corresponding to this point is the **optimal K value or an optimal number of clusters**.\n",
        "\n",
        "* But in above **Elbow graph** graph not show proper elbow so we consider first change line point  k value is optimal number of clusters.\n",
        "\n",
        "* So the **optimal  number of clusters is 4  .**\n",
        "\n",
        "* Now let’s train the model on the dataset with a number of clusters 4. "
      ]
    },
    {
      "cell_type": "code",
      "metadata": {
        "id": "60rMAX6cwVQ6",
        "colab": {
          "base_uri": "https://localhost:8080/"
        },
        "outputId": "8ebcab22-061e-4185-da24-f0b9ca343b7f"
      },
      "source": [
        "##Fitting K-Means to the dataset\n",
        "true_k=4                          #number of clusters\n",
        "model=KMeans(n_clusters=true_k, init=\"k-means++\",max_iter=300, n_init=10)\n",
        "model.fit(X)\n",
        "\n",
        "\n"
      ],
      "execution_count": 53,
      "outputs": [
        {
          "output_type": "execute_result",
          "data": {
            "text/plain": [
              "KMeans(n_clusters=4)"
            ]
          },
          "metadata": {},
          "execution_count": 53
        }
      ]
    },
    {
      "cell_type": "markdown",
      "metadata": {
        "id": "qgp6MBlmaECF"
      },
      "source": [
        "#**Top Terms Per Cluster:**\n",
        "\n",
        "* Print top terms per cluster.\n",
        "* We can give name of cluster manually as per feature of cluster."
      ]
    },
    {
      "cell_type": "code",
      "metadata": {
        "id": "G7MXwGVxxdIx",
        "colab": {
          "base_uri": "https://localhost:8080/"
        },
        "outputId": "21d0eea0-f531-467f-9829-23ca60a732d4"
      },
      "source": [
        "#print top terms per cluster\n",
        "print(\"Top terms per cluster:\")\n",
        "order_centroids = model.cluster_centers_.argsort()[:,::-1]\n",
        "terms = cv.get_feature_names()\n",
        "for i in range(true_k):\n",
        "  print(\"Cluster %d:\" %i,)\n",
        "  for ind in order_centroids[i,:10]:\n",
        "     print(\"%s\" % terms[ind])\n",
        "  print   "
      ],
      "execution_count": 54,
      "outputs": [
        {
          "output_type": "stream",
          "name": "stdout",
          "text": [
            "Top terms per cluster:\n",
            "Cluster 0:\n",
            "group\n",
            "research\n",
            "risk\n",
            "cancer\n",
            "say\n",
            "new\n",
            "fund\n",
            "green\n",
            "plan\n",
            "health\n",
            "Cluster 1:\n",
            "court\n",
            "face\n",
            "man\n",
            "accus\n",
            "front\n",
            "told\n",
            "hear\n",
            "murder\n",
            "charg\n",
            "high\n",
            "Cluster 2:\n",
            "new\n",
            "man\n",
            "say\n",
            "plan\n",
            "us\n",
            "call\n",
            "australia\n",
            "council\n",
            "charg\n",
            "fire\n",
            "Cluster 3:\n",
            "polic\n",
            "man\n",
            "investig\n",
            "probe\n",
            "offic\n",
            "search\n",
            "charg\n",
            "miss\n",
            "arrest\n",
            "death\n"
          ]
        },
        {
          "output_type": "stream",
          "name": "stderr",
          "text": [
            "/usr/local/lib/python3.7/dist-packages/sklearn/utils/deprecation.py:87: FutureWarning: Function get_feature_names is deprecated; get_feature_names is deprecated in 1.0 and will be removed in 1.2. Please use get_feature_names_out instead.\n",
            "  warnings.warn(msg, category=FutureWarning)\n"
          ]
        }
      ]
    },
    {
      "cell_type": "markdown",
      "metadata": {
        "id": "uWHNaNNHCsDC"
      },
      "source": [
        "#**Prediction:**\n",
        "Finally we can predict to identify the cluster a data point belongs to.\n"
      ]
    },
    {
      "cell_type": "code",
      "metadata": {
        "id": "FIo-ubbWDASS",
        "colab": {
          "base_uri": "https://localhost:8080/"
        },
        "outputId": "4b4f8dcd-78a0-447f-af13-f022b348fe67"
      },
      "source": [
        "Y= cv.transform([\"what victorias coronavirus restrictions mean \"])\n",
        "prediction=model.predict(Y)\n",
        "print(prediction)\n"
      ],
      "execution_count": 55,
      "outputs": [
        {
          "output_type": "stream",
          "name": "stdout",
          "text": [
            "[2]\n"
          ]
        }
      ]
    },
    {
      "cell_type": "markdown",
      "metadata": {
        "id": "FuoAw0SX7NVf"
      },
      "source": [
        "#**Scatter Plot:**\n",
        "* Let us now draw a scatter plot to see how our data seems in clusters.\n",
        "\n",
        "* As per the documentation of **matplotlib.pyplot.scatter** takes an **array** as in **input** but in our case **X[y_kmeans == a,b]** we are **feeding in a sparse matrix**, so we need to **convert it into an numpy array using .toarray() method**. \n",
        "\n"
      ]
    },
    {
      "cell_type": "code",
      "metadata": {
        "id": "VZbTNBzi8wRV",
        "colab": {
          "base_uri": "https://localhost:8080/",
          "height": 265
        },
        "outputId": "3a3998d2-1e40-48c9-aa01-5259db88c415"
      },
      "source": [
        "plt.scatter(X[y_kmeans == 0,0].toarray(), X[y_kmeans==0,1].toarray(), s = 50, c= 'red', label = 'Cluster_1')\n",
        "plt.scatter(X[y_kmeans == 1,0].toarray(), X[y_kmeans==1,1].toarray(), s = 50, c= 'blue', label = 'Cluster_2')\n",
        "plt.scatter(X[y_kmeans == 2,0].toarray(), X[y_kmeans==2,1].toarray(), s = 50, c= 'green', label = 'Cluster_3')\n",
        "plt.scatter(X[y_kmeans == 3,0].toarray(), X[y_kmeans==3,1].toarray(), s = 50, c= 'orange', label = 'Cluster_4')\n",
        "\n",
        "\n",
        "plt.scatter(kmeans.cluster_centers_[:,0],kmeans.cluster_centers_[:,1],s=10, c = 'Black', label ='Centroids')\n",
        "plt.legend() \n",
        "plt.show()\n"
      ],
      "execution_count": 59,
      "outputs": [
        {
          "output_type": "display_data",
          "data": {
            "image/png": "[encoded data removed]",
            "text/plain": [
              "<Figure size 432x288 with 1 Axes>"
            ]
          },
          "metadata": {
            "needs_background": "light"
          }
        }
      ]
    },
    {
      "cell_type": "markdown",
      "metadata": {
        "id": "7_12-aP78QLg"
      },
      "source": [
        "#**Conclusion:**\n",
        "This is all about the basic concept of the K-Means Clustering algorithm in Machine Learning.\n",
        "\n",
        "Finally our text classification model done and now we can predict to identify the cluster a  text data point belongs to.\n"
      ]
    }
  ]
}